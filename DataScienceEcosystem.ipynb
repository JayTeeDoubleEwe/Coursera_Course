{
 "cells": [
  {
   "cell_type": "markdown",
   "id": "3e710e71",
   "metadata": {},
   "source": [
    "# Data Science Tools and Ecosystem"
   ]
  },
  {
   "cell_type": "markdown",
   "id": "9fbbaeb5",
   "metadata": {},
   "source": [
    "In this notebook, Data Science Tools and ecosystems are summarized according to the Coursera \"Tools for Data Science\" course."
   ]
  },
  {
   "cell_type": "markdown",
   "id": "730ebfc6",
   "metadata": {},
   "source": [
    "**Objectives:**\n",
    "* Identify popular languages used by data scientists\n",
    "* Identify popular libraries used by data scientists\n",
    "* Identify some popular data sicence tools\n",
    "* Demonstrate some basic arithmetic calculations in Jupyter, using Python coding"
   ]
  },
  {
   "cell_type": "markdown",
   "id": "bae36afc",
   "metadata": {},
   "source": [
    "Some of the popular languages that Data Scientists use are:"
   ]
  },
  {
   "cell_type": "markdown",
   "id": "cda67fb9",
   "metadata": {},
   "source": [
    "1. Python\n",
    "2. R (the statistical software)\n",
    "3. C++\n",
    "4. C"
   ]
  },
  {
   "cell_type": "markdown",
   "id": "c03e3009",
   "metadata": {},
   "source": [
    "Some of the commonly used libraries used by data scientists include, but are not limited to: "
   ]
  },
  {
   "cell_type": "markdown",
   "id": "0e1d98ef",
   "metadata": {},
   "source": [
    "1. \"caret\" (an R library)\n",
    "2. \"NumPy\" (a Python library)\n",
    "3. \"Pandas\" (a Python library)\n",
    "4. \"Matplotlib\" (a Python library)"
   ]
  },
  {
   "cell_type": "markdown",
   "id": "335709f8",
   "metadata": {},
   "source": [
    "| Data Science Tools |\n",
    "| ------------------ |\n",
    "|  Git  |\n",
    "|  GitLab  |\n",
    "|  TensorFlow  |"
   ]
  },
  {
   "cell_type": "markdown",
   "id": "d81a263e",
   "metadata": {},
   "source": [
    "### Below are a few examples of evaluating arithmetic expressions in Python"
   ]
  },
  {
   "cell_type": "code",
   "execution_count": 4,
   "id": "5a2fe2d1",
   "metadata": {},
   "outputs": [
    {
     "data": {
      "text/plain": [
       "17"
      ]
     },
     "execution_count": 4,
     "metadata": {},
     "output_type": "execute_result"
    }
   ],
   "source": [
    "# This is a simple arithmetic expression to multiply, then add integers:\n",
    "(3*4)+5"
   ]
  },
  {
   "cell_type": "code",
   "execution_count": 5,
   "id": "0e47dbc7",
   "metadata": {},
   "outputs": [
    {
     "data": {
      "text/plain": [
       "3.3333333333333335"
      ]
     },
     "execution_count": 5,
     "metadata": {},
     "output_type": "execute_result"
    }
   ],
   "source": [
    "# This is a simple calculation to convert 200 minutes into equivalent hours (i.e., divide by 60):\n",
    "200/60"
   ]
  },
  {
   "cell_type": "markdown",
   "id": "913af8ab",
   "metadata": {},
   "source": [
    "## Author\n",
    "JT Walker"
   ]
  },
  {
   "cell_type": "code",
   "execution_count": null,
   "id": "7e8dbcef",
   "metadata": {},
   "outputs": [],
   "source": []
  }
 ],
 "metadata": {
  "kernelspec": {
   "display_name": "Python 3 (ipykernel)",
   "language": "python",
   "name": "python3"
  },
  "language_info": {
   "codemirror_mode": {
    "name": "ipython",
    "version": 3
   },
   "file_extension": ".py",
   "mimetype": "text/x-python",
   "name": "python",
   "nbconvert_exporter": "python",
   "pygments_lexer": "ipython3",
   "version": "3.7.1"
  }
 },
 "nbformat": 4,
 "nbformat_minor": 5
}
